{
 "cells": [
  {
   "cell_type": "code",
   "execution_count": null,
   "metadata": {},
   "outputs": [],
   "source": [
    "import bs4\n",
    "from bs4 import BeautifulSoup as bs\n",
    "import requests"
   ]
  },
  {
   "cell_type": "code",
   "execution_count": null,
   "metadata": {},
   "outputs": [],
   "source": [
    "r = requests.get(\"https://www.cs.toronto.edu/~vmnih/data/mass_roads/train/map/index.html\")"
   ]
  },
  {
   "cell_type": "code",
   "execution_count": null,
   "metadata": {},
   "outputs": [],
   "source": [
    "soup = bs(r.text, 'html.parser')\n",
    "tif_refs = soup.find_all('a')"
   ]
  },
  {
   "cell_type": "code",
   "execution_count": null,
   "metadata": {},
   "outputs": [],
   "source": [
    "print (tif_refs[0])"
   ]
  },
  {
   "cell_type": "code",
   "execution_count": null,
   "metadata": {},
   "outputs": [],
   "source": [
    "# extracting only the link itself from the soup object\n",
    "# will be used to define a list of links for iterating and downloading\n",
    "for link in tif_refs:\n",
    "    if link.has_attr('href'):\n",
    "        print(link['href'])"
   ]
  },
  {
   "cell_type": "code",
   "execution_count": null,
   "metadata": {},
   "outputs": [],
   "source": [
    "links = []\n",
    "\n",
    "for link in tif_refs:\n",
    "    if link.has_attr('href'):\n",
    "        links.append(link['href'])"
   ]
  },
  {
   "cell_type": "code",
   "execution_count": null,
   "metadata": {},
   "outputs": [],
   "source": [
    "links"
   ]
  },
  {
   "cell_type": "code",
   "execution_count": null,
   "metadata": {},
   "outputs": [],
   "source": [
    "# code to cleanly name each file being downloaded\n",
    "url= \"http://www.computersolution.tech/wp-content/uploads/2016/05/tutorialspoint-logo.png\"\n",
    "\n",
    "if url.find('/'): #check if url has '/'\n",
    "    if url.rsplit('/', 1)[1]: #check if url can be split on '/'\n",
    "        print (url.rsplit('/', 1)[1].rsplit('.')[0]) #split url once '/' starting from the end, then again on '.', grabbing the 0th element in that list"
   ]
  },
  {
   "cell_type": "markdown",
   "metadata": {},
   "source": [
    "## REFACTOR EVERYTHING FROM ABOVE"
   ]
  },
  {
   "cell_type": "code",
   "execution_count": null,
   "metadata": {},
   "outputs": [],
   "source": [
    "!pwd"
   ]
  },
  {
   "cell_type": "code",
   "execution_count": null,
   "metadata": {},
   "outputs": [],
   "source": [
    "def download_links(url):\n",
    "    \n",
    "    r = requests.get(url) #get url content\n",
    "    soup = bs(r.text, 'html.parser') #parse content\n",
    "    a_hrefs = soup.find_all('a') #find all hrefs\n",
    "    \n",
    "    links = []\n",
    "    for link in a_hrefs: #new list of hrefs that includes only the URL portion\n",
    "        if link.has_attr('href'):\n",
    "            links.append(link['href'])\n",
    "            \n",
    "    for link in links:\n",
    "        #creates file name from the link\n",
    "        file_name = ''\n",
    "        if link.find('/'): #check if url has '/'\n",
    "            if link.rsplit('/', 1)[1]: #check if url can be split on '/'\n",
    "                file_name = (link.rsplit('/', 1)[1].rsplit('.')[0]) #split url once '/' starting from the end, then again on '.', grabbing the 0th element in that list\n",
    "        \n",
    "        #writes file\n",
    "        request = requests.get(link)\n",
    "        file_location = '/Users/kyledecember1/machine_learning/deep_learning_road_generation/images/source_images/road_images/' + file_name + '.jpg'\n",
    "        with open(file_location, 'wb') as f:\n",
    "            f.write(request.content)\n",
    "    return"
   ]
  },
  {
   "cell_type": "code",
   "execution_count": null,
   "metadata": {},
   "outputs": [],
   "source": [
    "# url= \"https://www.cs.toronto.edu/~vmnih/data/mass_roads/train/map/index.html\"\n",
    "# download_links(url)"
   ]
  },
  {
   "cell_type": "markdown",
   "metadata": {},
   "source": [
    "## ACCESSING AND PREPROCESSING IMAGES"
   ]
  },
  {
   "cell_type": "code",
   "execution_count": null,
   "metadata": {},
   "outputs": [],
   "source": [
    "import glob"
   ]
  },
  {
   "cell_type": "code",
   "execution_count": null,
   "metadata": {},
   "outputs": [],
   "source": [
    "# access image filenames\n",
    "\n",
    "filenames = glob.glob('images/source_images/road_images/*')"
   ]
  },
  {
   "cell_type": "code",
   "execution_count": null,
   "metadata": {},
   "outputs": [],
   "source": [
    "print(\"Num_Images: \",len(filenames))"
   ]
  },
  {
   "cell_type": "code",
   "execution_count": null,
   "metadata": {},
   "outputs": [],
   "source": []
  }
 ],
 "metadata": {
  "kernelspec": {
   "display_name": "learn-env",
   "language": "python",
   "name": "learn-env"
  },
  "language_info": {
   "codemirror_mode": {
    "name": "ipython",
    "version": 3
   },
   "file_extension": ".py",
   "mimetype": "text/x-python",
   "name": "python",
   "nbconvert_exporter": "python",
   "pygments_lexer": "ipython3",
   "version": "3.6.9"
  }
 },
 "nbformat": 4,
 "nbformat_minor": 4
}
