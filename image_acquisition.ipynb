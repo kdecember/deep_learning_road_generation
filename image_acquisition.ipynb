{
 "cells": [
  {
   "cell_type": "code",
   "execution_count": null,
   "metadata": {},
   "outputs": [],
   "source": [
    "import bs4\n",
    "from bs4 import BeautifulSoup as bs\n",
    "import requests"
   ]
  },
  {
   "cell_type": "code",
   "execution_count": null,
   "metadata": {},
   "outputs": [],
   "source": [
    "!pip list"
   ]
  },
  {
   "cell_type": "code",
   "execution_count": null,
   "metadata": {},
   "outputs": [],
   "source": [
    "r = requests.get(\"https://www.cs.toronto.edu/~vmnih/data/mass_roads/train/map/index.html\")"
   ]
  },
  {
   "cell_type": "code",
   "execution_count": null,
   "metadata": {},
   "outputs": [],
   "source": [
    "soup = bs(r.text, 'html.parser')\n",
    "tif_refs = soup.find_all('a')\n",
    "\n",
    "tif_urls = [tif('src') for tif in tif_tags]"
   ]
  },
  {
   "cell_type": "code",
   "execution_count": null,
   "metadata": {},
   "outputs": [],
   "source": [
    "soup.extract"
   ]
  },
  {
   "cell_type": "code",
   "execution_count": null,
   "metadata": {},
   "outputs": [],
   "source": [
    "print (tif_refs)"
   ]
  },
  {
   "cell_type": "code",
   "execution_count": null,
   "metadata": {},
   "outputs": [],
   "source": [
    "print(tif_urls)"
   ]
  },
  {
   "cell_type": "code",
   "execution_count": null,
   "metadata": {},
   "outputs": [],
   "source": [
    "# extracting only the link itself from the soup object\n",
    "# will be used to define a list of links for iterating and downloading\n",
    "for link in tif_refs:\n",
    "    if link.has_attr('href'):\n",
    "        print(link['href'])"
   ]
  },
  {
   "cell_type": "code",
   "execution_count": null,
   "metadata": {},
   "outputs": [],
   "source": [
    "#investigate why the code in the previous cell actually works\n",
    "type(tif_refs[0])"
   ]
  },
  {
   "cell_type": "code",
   "execution_count": null,
   "metadata": {},
   "outputs": [],
   "source": [
    "links = []\n",
    "\n",
    "for link in tif_refs:\n",
    "    if link.has_attr('href'):\n",
    "        links.append(link['href'])"
   ]
  },
  {
   "cell_type": "code",
   "execution_count": null,
   "metadata": {},
   "outputs": [],
   "source": [
    "links"
   ]
  },
  {
   "cell_type": "code",
   "execution_count": null,
   "metadata": {},
   "outputs": [],
   "source": [
    "# code to cleanly name each file being downloaded\n",
    "url= \"http://www.computersolution.tech/wp-content/uploads/2016/05/tutorialspoint-logo.png\"\n",
    "\n",
    "if url.find('/'): #check if url has '/'\n",
    "    if url.rsplit('/', 1)[1]: #check if url can be split on '/'\n",
    "        print (url.rsplit('/', 1)[1].rsplit('.')[0]) #split url once '/' starting from the end, then again on '.', grabbing the 0th element in that list"
   ]
  },
  {
   "cell_type": "code",
   "execution_count": null,
   "metadata": {},
   "outputs": [],
   "source": [
    "#attempting Wget\n",
    "\n",
    "url = \"https://www.python.org/static/img/python-logo@2x.png\"\n",
    "\n",
    "wget.download(url, 'c:/users/LikeGeeks/downloads/pythonLogo.png')"
   ]
  },
  {
   "cell_type": "code",
   "execution_count": null,
   "metadata": {},
   "outputs": [],
   "source": [
    "!conda install wget"
   ]
  },
  {
   "cell_type": "markdown",
   "metadata": {},
   "source": [
    "I tried to install wget because I was running into Errno3 during the file writing process, which prevented me from creating the file on the basis of permissions. Since I couldn't successfully install wget, I tried other solutions to get around Errno3. Ultimately, I got around it by explicitly defining the targeted file_location in the code, beginning with 'c:/'"
   ]
  },
  {
   "cell_type": "markdown",
   "metadata": {},
   "source": [
    "## REFACTOR EVERYTHING FROM ABOVE"
   ]
  },
  {
   "cell_type": "code",
   "execution_count": null,
   "metadata": {},
   "outputs": [],
   "source": [
    "def download_links(url):\n",
    "    \n",
    "    r = requests.get(url) #get url content\n",
    "    soup = bs(r.text, 'html.parser') #parse content\n",
    "    a_hrefs = soup.find_all('a') #find all hrefs\n",
    "    \n",
    "    links = []\n",
    "    for link in a_hrefs: #new list of hrefs that includes only the URL portion\n",
    "        if link.has_attr('href'):\n",
    "            links.append(link['href'])\n",
    "            \n",
    "    for link in links:\n",
    "        #creates file name from the link\n",
    "        file_name = ''\n",
    "        if link.find('/'): #check if url has '/'\n",
    "            if link.rsplit('/', 1)[1]: #check if url can be split on '/'\n",
    "                file_name = (link.rsplit('/', 1)[1].rsplit('.')[0]) #split url once '/' starting from the end, then again on '.', grabbing the 0th element in that list\n",
    "        \n",
    "        #writes file\n",
    "        request = requests.get(link)\n",
    "        file_location = 'c:/Users/kyled/coding/deep_learning_road_generation/images/' + file_name + '.jpg'\n",
    "        with open(file_location, 'wb') as f:\n",
    "            f.write(request.content)\n",
    "    return"
   ]
  },
  {
   "cell_type": "code",
   "execution_count": null,
   "metadata": {},
   "outputs": [],
   "source": [
    "!pwd"
   ]
  },
  {
   "cell_type": "markdown",
   "metadata": {},
   "source": [
    "NOTE: I ran into an issue during the downloading process which halted the script. I restarted the process, but this time I iterated through \"links\" in reverse. This was done in order to avoid duplicate files at the onset of the script. I expected that when writing a file with a name that already existed, I would receive an error, so I started from the end in order to get all the files I had missed in the previous run, and when the script arrived at a file I'd already downloaded, it would stop due to error.\n",
    "\n",
    "FINDING: The script didn't produce an error. Instead, it simply wrote over the pre-existing files."
   ]
  },
  {
   "cell_type": "code",
   "execution_count": null,
   "metadata": {},
   "outputs": [],
   "source": [
    "url= \"https://www.cs.toronto.edu/~vmnih/data/mass_roads/train/map/index.html\"\n",
    "\n",
    "download_links(url)"
   ]
  },
  {
   "cell_type": "markdown",
   "metadata": {},
   "source": [
    "NOTE: I'm rerunning the download script because I didn't enter the correct file location. This will prove useful as I can cross examine the number\n",
    "of images in both directories. This will allow me to confirm no duplicate files were written during the previous attempts."
   ]
  },
  {
   "cell_type": "code",
   "execution_count": null,
   "metadata": {},
   "outputs": [],
   "source": []
  },
  {
   "cell_type": "code",
   "execution_count": null,
   "metadata": {},
   "outputs": [],
   "source": []
  }
 ],
 "metadata": {
  "kernelspec": {
   "display_name": "Python 3",
   "language": "python",
   "name": "python3"
  },
  "language_info": {
   "codemirror_mode": {
    "name": "ipython",
    "version": 3
   },
   "file_extension": ".py",
   "mimetype": "text/x-python",
   "name": "python",
   "nbconvert_exporter": "python",
   "pygments_lexer": "ipython3",
   "version": "3.8.5"
  }
 },
 "nbformat": 4,
 "nbformat_minor": 4
}
