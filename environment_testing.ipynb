{
 "cells": [
  {
   "cell_type": "code",
   "execution_count": 5,
   "metadata": {
    "collapsed": true,
    "jupyter": {
     "outputs_hidden": true
    }
   },
   "outputs": [
    {
     "name": "stdout",
     "output_type": "stream",
     "text": [
      "# packages in environment at C:\\Users\\kyled\\anaconda3\\envs\\ml_base:\n",
      "#\n",
      "# Name                    Version                   Build  Channel\n",
      "_tflow_select             2.3.0                     eigen  \n",
      "absl-py                   0.11.0             pyhd3eb1b0_1  \n",
      "aiohttp                   3.7.3            py38h2bbff1b_1  \n",
      "astunparse                1.6.3                      py_0  \n",
      "async-timeout             3.0.1            py38haa95532_0  \n",
      "attrs                     20.3.0             pyhd3eb1b0_0  \n",
      "blas                      1.0                         mkl  \n",
      "blinker                   1.4              py38haa95532_0  \n",
      "brotlipy                  0.7.0           py38h2bbff1b_1003  \n",
      "ca-certificates           2021.1.19            haa95532_0  \n",
      "cachetools                4.2.1              pyhd3eb1b0_0  \n",
      "certifi                   2020.12.5        py38haa95532_0  \n",
      "cffi                      1.14.4           py38hcd4344a_0  \n",
      "chardet                   3.0.4           py38haa95532_1003  \n",
      "click                     7.1.2              pyhd3eb1b0_0  \n",
      "cryptography              2.9.2            py38h7a1dbc1_0  \n",
      "gast                      0.4.0                      py_0  \n",
      "google-auth               1.24.0             pyhd3eb1b0_0  \n",
      "google-auth-oauthlib      0.4.2              pyhd3eb1b0_2  \n",
      "google-pasta              0.2.0                      py_0  \n",
      "grpcio                    1.31.0           py38he7da953_0  \n",
      "h5py                      2.10.0           py38h5e291fa_0  \n",
      "hdf5                      1.10.4               h7ebc959_0  \n",
      "icc_rt                    2019.0.0             h0cc432a_1  \n",
      "idna                      2.10               pyhd3eb1b0_0  \n",
      "importlib-metadata        2.0.0                      py_1  \n",
      "intel-openmp              2020.2                      254  \n",
      "keras                     2.4.3                         0  \n",
      "keras-applications        1.0.8                      py_1  \n",
      "keras-base                2.4.3                      py_0  \n",
      "keras-preprocessing       1.1.0                      py_1  \n",
      "libprotobuf               3.13.0.1             h200bbdf_0  \n",
      "markdown                  3.3.3            py38haa95532_0  \n",
      "mkl                       2020.2                      256  \n",
      "mkl-service               2.3.0            py38h196d8e1_0  \n",
      "mkl_fft                   1.2.0            py38h45dec08_0  \n",
      "mkl_random                1.1.1            py38h47e9c7a_0  \n",
      "multidict                 4.7.6            py38he774522_1  \n",
      "numpy                     1.19.2           py38hadc3359_0  \n",
      "numpy-base                1.19.2           py38ha3acd2a_0  \n",
      "oauthlib                  3.1.0                      py_0  \n",
      "openssl                   1.1.1i               h2bbff1b_0  \n",
      "opt_einsum                3.1.0                      py_0  \n",
      "pandas                    1.2.1            py38hf11a4ad_0  \n",
      "pip                       20.3.3           py38haa95532_0  \n",
      "protobuf                  3.13.0.1         py38ha925a31_1  \n",
      "pyasn1                    0.4.8                      py_0  \n",
      "pyasn1-modules            0.2.8                      py_0  \n",
      "pycparser                 2.20                       py_2  \n",
      "pyjwt                     2.0.1            py38haa95532_0  \n",
      "pyopenssl                 20.0.1             pyhd3eb1b0_1  \n",
      "pyreadline                2.1                      py38_1  \n",
      "pysocks                   1.7.1            py38haa95532_0  \n",
      "python                    3.8.5                h5fd99cc_1  \n",
      "python-dateutil           2.8.1              pyhd3eb1b0_0  \n",
      "pytz                      2020.5             pyhd3eb1b0_0  \n",
      "pyyaml                    5.4.1            py38h2bbff1b_1  \n",
      "requests                  2.25.1             pyhd3eb1b0_0  \n",
      "requests-oauthlib         1.3.0                      py_0  \n",
      "rsa                       4.7                pyhd3eb1b0_1  \n",
      "scipy                     1.5.2            py38h14eb087_0  \n",
      "setuptools                52.0.0           py38haa95532_0  \n",
      "six                       1.15.0           py38haa95532_0  \n",
      "sqlite                    3.33.0               h2a8f88b_0  \n",
      "tensorboard               2.3.0              pyh4dce500_0  \n",
      "tensorboard-plugin-wit    1.6.0                      py_0  \n",
      "tensorflow                2.3.0           mkl_py38h8c0d9a2_0  \n",
      "tensorflow-base           2.3.0           eigen_py38h75a453f_0  \n",
      "tensorflow-estimator      2.3.0              pyheb71bc4_0  \n",
      "termcolor                 1.1.0                    py38_1  \n",
      "typing-extensions         3.7.4.3              hd3eb1b0_0  \n",
      "typing_extensions         3.7.4.3            pyh06a4308_0  \n",
      "urllib3                   1.26.3             pyhd3eb1b0_0  \n",
      "vc                        14.2                 h21ff451_1  \n",
      "vs2015_runtime            14.27.29016          h5e58377_2  \n",
      "werkzeug                  1.0.1              pyhd3eb1b0_0  \n",
      "wheel                     0.36.2             pyhd3eb1b0_0  \n",
      "win_inet_pton             1.1.0            py38haa95532_0  \n",
      "wincertstore              0.2                      py38_0  \n",
      "wrapt                     1.12.1           py38he774522_1  \n",
      "yaml                      0.2.5                he774522_0  \n",
      "yarl                      1.5.1            py38he774522_0  \n",
      "zipp                      3.4.0              pyhd3eb1b0_0  \n",
      "zlib                      1.2.11               h62dcd97_4  \n"
     ]
    }
   ],
   "source": [
    "!conda list"
   ]
  },
  {
   "cell_type": "code",
   "execution_count": 3,
   "metadata": {},
   "outputs": [],
   "source": [
    "import os"
   ]
  },
  {
   "cell_type": "code",
   "execution_count": null,
   "metadata": {},
   "outputs": [],
   "source": []
  }
 ],
 "metadata": {
  "kernelspec": {
   "display_name": "Python (ml_base)",
   "language": "python",
   "name": "ml_base"
  },
  "language_info": {
   "codemirror_mode": {
    "name": "ipython",
    "version": 3
   },
   "file_extension": ".py",
   "mimetype": "text/x-python",
   "name": "python",
   "nbconvert_exporter": "python",
   "pygments_lexer": "ipython3",
   "version": "3.8.5"
  }
 },
 "nbformat": 4,
 "nbformat_minor": 4
}
