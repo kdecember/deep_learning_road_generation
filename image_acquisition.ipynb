{
 "cells": [
  {
   "cell_type": "code",
   "execution_count": null,
   "metadata": {},
   "outputs": [],
   "source": [
    "import bs4\n",
    "from bs4 import BeautifulSoup as bs\n",
    "import requests"
   ]
  },
  {
   "cell_type": "code",
   "execution_count": null,
   "metadata": {},
   "outputs": [],
   "source": [
    "r = requests.get(\"https://www.cs.toronto.edu/~vmnih/data/mass_roads/train/map/index.html\")"
   ]
  },
  {
   "cell_type": "code",
   "execution_count": null,
   "metadata": {},
   "outputs": [],
   "source": [
    "soup = bs(r.text, 'html.parser')\n",
    "tif_refs = soup.find_all('a')\n",
    "\n",
    "tif_urls = [tif('src') for tif in tif_tags]"
   ]
  },
  {
   "cell_type": "code",
   "execution_count": null,
   "metadata": {},
   "outputs": [],
   "source": [
    "soup.extract"
   ]
  },
  {
   "cell_type": "code",
   "execution_count": null,
   "metadata": {},
   "outputs": [],
   "source": [
    "print (tif_refs)"
   ]
  },
  {
   "cell_type": "code",
   "execution_count": null,
   "metadata": {},
   "outputs": [],
   "source": [
    "print(tif_urls)"
   ]
  },
  {
   "cell_type": "code",
   "execution_count": null,
   "metadata": {},
   "outputs": [],
   "source": [
    "# extracting only the link itself from the soup object\n",
    "# will be used to define a list of links for iterating and downloading\n",
    "for link in tif_refs:\n",
    "    if link.has_attr('href'):\n",
    "        print(link['href'])"
   ]
  },
  {
   "cell_type": "code",
   "execution_count": null,
   "metadata": {},
   "outputs": [],
   "source": [
    "#investigate why the code in the previous cell actually works\n",
    "type(tif_refs[0])"
   ]
  },
  {
   "cell_type": "code",
   "execution_count": null,
   "metadata": {},
   "outputs": [],
   "source": [
    "links = []\n",
    "\n",
    "for link in tif_refs:\n",
    "    if link.has_attr('href'):\n",
    "        links.append(link['href'])"
   ]
  },
  {
   "cell_type": "code",
   "execution_count": null,
   "metadata": {},
   "outputs": [],
   "source": [
    "links"
   ]
  },
  {
   "cell_type": "code",
   "execution_count": null,
   "metadata": {},
   "outputs": [],
   "source": [
    "# code to cleanly name each file being downloaded\n",
    "url= \"http://www.computersolution.tech/wp-content/uploads/2016/05/tutorialspoint-logo.png\"\n",
    "\n",
    "if url.find('/'): #check if url has '/'\n",
    "    if url.rsplit('/', 1)[1]: #check if url can be split on '/'\n",
    "        print (url.rsplit('/', 1)[1].rsplit('.')[0]) #split url once '/' starting from the end, then again on '.', grabbing the 0th element in that list"
   ]
  },
  {
   "cell_type": "code",
   "execution_count": null,
   "metadata": {},
   "outputs": [],
   "source": [
    "if url.find('/'):\n",
    "    print (url.rsplit('/', 1))"
   ]
  },
  {
   "cell_type": "markdown",
   "metadata": {},
   "source": [
    "## REFACTOR EVERYTHING FROM ABOVE"
   ]
  },
  {
   "cell_type": "code",
   "execution_count": null,
   "metadata": {},
   "outputs": [],
   "source": [
    "def download_links(url):\n",
    "    \n",
    "    r = requests.get(\"https://www.cs.toronto.edu/~vmnih/data/mass_roads/train/map/index.html\") #get url content\n",
    "    soup = bs(r.text, 'html.parser') #parse content\n",
    "    a_hrefs = soup.find_all('a') #find all hrefs\n",
    "    \n",
    "    links = []\n",
    "    for link in a_hrefs: #new list of hrefs that includes only the URL portion\n",
    "        if link.has_attr('href'):\n",
    "            links.append(link['href'])\n",
    "            \n",
    "    for link in links:\n",
    "        pass\n",
    "        ## DOWNLOADING AND FILE WRITING FUNCTION GOES HERE\n",
    "    return links"
   ]
  },
  {
   "cell_type": "code",
   "execution_count": null,
   "metadata": {},
   "outputs": [],
   "source": [
    "url= \"http://www.computersolution.tech/wp-content/uploads/2016/05/tutorialspoint-logo.png\"\n",
    "\n",
    "download_links(url)"
   ]
  },
  {
   "cell_type": "code",
   "execution_count": null,
   "metadata": {},
   "outputs": [],
   "source": []
  }
 ],
 "metadata": {
  "kernelspec": {
   "display_name": "Python 3",
   "language": "python",
   "name": "python3"
  },
  "language_info": {
   "codemirror_mode": {
    "name": "ipython",
    "version": 3
   },
   "file_extension": ".py",
   "mimetype": "text/x-python",
   "name": "python",
   "nbconvert_exporter": "python",
   "pygments_lexer": "ipython3",
   "version": "3.8.5"
  }
 },
 "nbformat": 4,
 "nbformat_minor": 4
}
